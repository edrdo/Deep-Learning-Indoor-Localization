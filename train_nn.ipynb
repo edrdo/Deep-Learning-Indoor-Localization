{
 "cells": [
  {
   "cell_type": "markdown",
   "metadata": {
    "id": "12Y1eMYko_3A"
   },
   "source": [
    "# Model derived using transfer learning\n",
    "\n"
   ]
  },
  {
   "cell_type": "code",
   "execution_count": 7,
   "metadata": {
    "colab": {
     "base_uri": "https://localhost:8080/"
    },
    "id": "5vtEv2d4oxJb",
    "outputId": "a7952ffe-ddf1-423f-d484-3247024f1deb"
   },
   "outputs": [
    {
     "name": "stdout",
     "output_type": "stream",
     "text": [
      "GPU is NOT AVAILABLE\n"
     ]
    }
   ],
   "source": [
    "import tensorflow as tf\n",
    "from keras.preprocessing.image import ImageDataGenerator\n",
    "import tensorflow_hub as hub\n",
    "print(\"GPU is\", \"available\" if tf.test.is_gpu_available() else \"NOT AVAILABLE\")"
   ]
  },
  {
   "cell_type": "markdown",
   "metadata": {
    "id": "j6PLJ6rfpPo-"
   },
   "source": [
    "## Configuration"
   ]
  },
  {
   "cell_type": "code",
   "execution_count": 8,
   "metadata": {
    "colab": {
     "base_uri": "https://localhost:8080/"
    },
    "id": "9IU7U-I9pb8C",
    "outputId": "a69eae70-298a-4b4a-ef88-4502a41800fd"
   },
   "outputs": [
    {
     "name": "stderr",
     "output_type": "stream",
     "text": [
      "Widget Javascript not detected.  It may not be installed or enabled properly. Reconnecting the current kernel may help.\n"
     ]
    },
    {
     "data": {
      "application/vnd.jupyter.widget-view+json": {
       "model_id": "4aed6aacec564d4faf977915c083a0d1"
      }
     },
     "metadata": {},
     "output_type": "display_data"
    }
   ],
   "source": [
    "import ipywidgets as widgets\n",
    "\n",
    "# MODEL_CHARACTERISTICS\n",
    "MODELS = {\n",
    "    \"InceptionV1\" : {\n",
    "        \"url\": \"https://www.kaggle.com/models/google/inception-v1/TensorFlow2/feature-vector/2\",\n",
    "        \"dim\": 224\n",
    "    },\n",
    "    \"InceptionV2\" : {\n",
    "        \"url\": \"https://www.kaggle.com/models/google/inception-v2/TensorFlow2/feature-vector/2\",\n",
    "        \"dim\": 224\n",
    "    },\n",
    "    \"InceptionV3\" : {\n",
    "        \"url\": \"https://www.kaggle.com/models/google/inception-v3/TensorFlow2/feature-vector/2\",\n",
    "        \"dim\": 299\n",
    "    },\n",
    "    \"MobileNetV1\" : {\n",
    "        \"url\": \"https://www.kaggle.com/models/google/mobilenet-v1/TensorFlow2/100-224-feature-vector/2\",\n",
    "        \"dim\": 224\n",
    "    },\n",
    "    \"MobileNetV2\" : {\n",
    "        \"url\": \"https://www.kaggle.com/models/google/mobilenet-v2/TensorFlow2/100-224-feature-vector/2\",\n",
    "        \"dim\": 224\n",
    "    },\n",
    "    \"MobileNetV3\" : {\n",
    "        \"url\": \"https://www.kaggle.com/models/google/mobilenet-v3/TensorFlow2/small-100-224-feature-vector/1\",\n",
    "        \"dim\": 224\n",
    "    },\n",
    "    \"NasNet\" : {\n",
    "        \"url\": \"https://www.kaggle.com/models/google/nasnet/TensorFlow2/large-feature-vector/2\",\n",
    "        \"dim\": 331\n",
    "    },\n",
    "    \"NasNetMobile\" : {\n",
    "        \"url\": \"https://www.kaggle.com/models/google/nasnet/TensorFlow2/mobile-feature-vector/2\",\n",
    "        \"dim\": 224\n",
    "    },\n",
    "    \"ResNetV1\" : {\n",
    "        \"url\": \"https://www.kaggle.com/models/google/resnet-v1/TensorFlow2/50-feature-vector/2\",\n",
    "        \"dim\": 224\n",
    "    },\n",
    "    \"ResNetV2\" : {\n",
    "        \"url\": \"https://www.kaggle.com/models/google/resnet-v2/TensorFlow2/50-feature-vector/2\",\n",
    "        \"dim\": 224\n",
    "    },\n",
    "    \n",
    "}\n",
    "MODEL_CFG = widgets.Dropdown(description=\"Model:\", value='MobileNetV1', options=sorted(MODELS.keys()))\n",
    "CT_CFG = widgets.FloatSlider(description=\"Convergenge threshold:\", value=0.99, min=0.25, max=1.00, step=0.01)\n",
    "DROPOUT_CFG = widgets.FloatSlider(description=\"Dropout (0: no dropout):\", value=0, min=0.0, max=0.5, step=0.1)\n",
    "MAX_STEPS_CFG = widgets.IntSlider(description=\"Max. training steps:\", value=50, min=10, max=100, step=10)\n",
    "BATCH_SIZE_CFG = widgets.IntSlider(description=\"Batch size:\", value=168, min=32, max=500)\n",
    "display(widgets.VBox([MODEL_CFG, CT_CFG, DROPOUT_CFG, MAX_STEPS_CFG, BATCH_SIZE_CFG]))"
   ]
  },
  {
   "cell_type": "code",
   "execution_count": 9,
   "metadata": {},
   "outputs": [
    {
     "name": "stdout",
     "output_type": "stream",
     "text": [
      " Model: MobileNetV1 \n",
      " Model - URL: https://www.kaggle.com/models/google/mobilenet-v1/TensorFlow2/100-224-feature-vector/2 \n",
      " Model - dim: 224 \n",
      " Conv. thr.: 0.99 \n",
      " Dropout: 0.0 \n",
      " Max steps: 50 \n",
      " Batch size: 168\n"
     ]
    }
   ],
   "source": [
    "P_MODEL = MODEL_CFG.value\n",
    "P_DIM = MODELS[P_MODEL][\"dim\"]\n",
    "P_URL = MODELS[P_MODEL][\"url\"]\n",
    "global P_CT\n",
    "P_CT = CT_CFG.value\n",
    "P_DROPOUT = DROPOUT_CFG.value\n",
    "P_MAX_STEPS = MAX_STEPS_CFG.value\n",
    "P_BATCH_SIZE = BATCH_SIZE_CFG.value\n",
    "print(' Model:', P_MODEL, '\\n',\n",
    "      'Model - URL:', P_URL, '\\n',\n",
    "      'Model - dim:', P_DIM, '\\n',\n",
    "      'Conv. thr.:', P_CT, '\\n',\n",
    "      'Dropout:', P_DROPOUT, '\\n',\n",
    "      'Max steps:', P_MAX_STEPS, '\\n',\n",
    "      'Batch size:', P_BATCH_SIZE)"
   ]
  },
  {
   "cell_type": "markdown",
   "metadata": {
    "id": "ZRC62Ob1qd0k"
   },
   "source": [
    "## Define train, validation and test sets"
   ]
  },
  {
   "cell_type": "code",
   "execution_count": 10,
   "metadata": {
    "colab": {
     "base_uri": "https://localhost:8080/"
    },
    "id": "8aOJ9nilrGbl",
    "outputId": "3789fbab-f9e1-4855-c601-f441f9e6ccaa"
   },
   "outputs": [
    {
     "name": "stdout",
     "output_type": "stream",
     "text": [
      "Found 3360 images belonging to 21 classes.\n",
      "Found 420 images belonging to 21 classes.\n",
      "Found 420 images belonging to 21 classes.\n"
     ]
    }
   ],
   "source": [
    "datagen = ImageDataGenerator(rescale=1.0/255.0)\n",
    "train_dataset = datagen.flow_from_directory(\n",
    "    'dset2/train',\n",
    "    target_size=(P_DIM,P_DIM),\n",
    " \n",
    "    batch_size=P_BATCH_SIZE,\n",
    "    class_mode='sparse'\n",
    ")\n",
    "validation_dataset = datagen.flow_from_directory(\n",
    "    'dset2/valid',\n",
    "    target_size=(P_DIM,P_DIM),\n",
    "\n",
    "    batch_size=P_BATCH_SIZE,\n",
    "    class_mode='sparse'\n",
    ")\n",
    "test_dataset = datagen.flow_from_directory(\n",
    "    'dset2/test',\n",
    "    target_size=(P_DIM,P_DIM),\n",
    "\n",
    "    batch_size=P_BATCH_SIZE,\n",
    "    class_mode='sparse'\n",
    ")"
   ]
  },
  {
   "cell_type": "markdown",
   "metadata": {
    "id": "TWI8M_iXp-p7"
   },
   "source": [
    "\n",
    "## Define CNN using Keras API\n"
   ]
  },
  {
   "cell_type": "code",
   "execution_count": 11,
   "metadata": {
    "colab": {
     "base_uri": "https://localhost:8080/"
    },
    "id": "6gxhdrHNqO_E",
    "outputId": "dec93355-d63c-48fe-b751-924325fd3da7"
   },
   "outputs": [
    {
     "name": "stdout",
     "output_type": "stream",
     "text": [
      "Model: \"sequential_1\"\n",
      "_________________________________________________________________\n",
      " Layer (type)                Output Shape              Param #   \n",
      "=================================================================\n",
      " keras_layer_1 (KerasLayer)  (None, 1024)              3228864   \n",
      "                                                                 \n",
      " dense_1 (Dense)             (None, 21)                21525     \n",
      "                                                                 \n",
      "=================================================================\n",
      "Total params: 3250389 (12.40 MB)\n",
      "Trainable params: 21525 (84.08 KB)\n",
      "Non-trainable params: 3228864 (12.32 MB)\n",
      "_________________________________________________________________\n"
     ]
    }
   ],
   "source": [
    "kl = hub.KerasLayer(P_URL, trainable=False, input_shape=(P_DIM, P_DIM, 3))\n",
    "fl = tf.keras.layers.Dense(21, activation='softmax')\n",
    "\n",
    "if P_DROPOUT > 0.0:\n",
    "    model = tf.keras.Sequential([ kl, tf.keras.layers.Dropout(P_DROPOUT), fl])\n",
    "else:\n",
    "    model = tf.keras.Sequential([ kl, fl])\n",
    "\n",
    "model.summary()"
   ]
  },
  {
   "cell_type": "markdown",
   "metadata": {
    "id": "R_ItuC3lqUIN"
   },
   "source": [
    "## Train model"
   ]
  },
  {
   "cell_type": "code",
   "execution_count": 12,
   "metadata": {
    "colab": {
     "base_uri": "https://localhost:8080/"
    },
    "id": "VGx8U1tiqaVD",
    "outputId": "36438781-4ce6-409e-910f-c17166939a8c"
   },
   "outputs": [
    {
     "name": "stdout",
     "output_type": "stream",
     "text": [
      "Epoch 1/50\n",
      "20/20 [==============================] - 36s 2s/step - loss: 2.7538 - accuracy: 0.2250 - val_loss: 1.8877 - val_accuracy: 0.4714\n",
      "Epoch 2/50\n",
      "20/20 [==============================] - 35s 2s/step - loss: 1.4620 - accuracy: 0.6113 - val_loss: 1.3005 - val_accuracy: 0.6357\n",
      "Epoch 3/50\n",
      "20/20 [==============================] - 35s 2s/step - loss: 1.0564 - accuracy: 0.7259 - val_loss: 1.0680 - val_accuracy: 0.7024\n",
      "Epoch 4/50\n",
      "20/20 [==============================] - 34s 2s/step - loss: 0.8602 - accuracy: 0.7830 - val_loss: 0.9369 - val_accuracy: 0.7381\n",
      "Epoch 5/50\n",
      "20/20 [==============================] - 35s 2s/step - loss: 0.7422 - accuracy: 0.8149 - val_loss: 0.8489 - val_accuracy: 0.7548\n",
      "Epoch 6/50\n",
      "20/20 [==============================] - 35s 2s/step - loss: 0.6519 - accuracy: 0.8426 - val_loss: 0.7730 - val_accuracy: 0.7952\n",
      "Epoch 7/50\n",
      "20/20 [==============================] - 35s 2s/step - loss: 0.5841 - accuracy: 0.8598 - val_loss: 0.7218 - val_accuracy: 0.8000\n",
      "Epoch 8/50\n",
      "20/20 [==============================] - 35s 2s/step - loss: 0.5312 - accuracy: 0.8750 - val_loss: 0.6777 - val_accuracy: 0.8214\n",
      "Epoch 9/50\n",
      "20/20 [==============================] - 35s 2s/step - loss: 0.4813 - accuracy: 0.8920 - val_loss: 0.6443 - val_accuracy: 0.8214\n",
      "Epoch 10/50\n",
      "20/20 [==============================] - 35s 2s/step - loss: 0.4467 - accuracy: 0.9012 - val_loss: 0.6318 - val_accuracy: 0.8190\n",
      "Epoch 11/50\n",
      "20/20 [==============================] - 35s 2s/step - loss: 0.4137 - accuracy: 0.9104 - val_loss: 0.5983 - val_accuracy: 0.8357\n",
      "Epoch 12/50\n",
      "20/20 [==============================] - 35s 2s/step - loss: 0.3829 - accuracy: 0.9193 - val_loss: 0.5748 - val_accuracy: 0.8452\n",
      "Epoch 13/50\n",
      "20/20 [==============================] - 35s 2s/step - loss: 0.3567 - accuracy: 0.9280 - val_loss: 0.5586 - val_accuracy: 0.8429\n",
      "Epoch 14/50\n",
      "20/20 [==============================] - 35s 2s/step - loss: 0.3335 - accuracy: 0.9336 - val_loss: 0.5445 - val_accuracy: 0.8571\n",
      "Epoch 15/50\n",
      "20/20 [==============================] - 35s 2s/step - loss: 0.3144 - accuracy: 0.9396 - val_loss: 0.5400 - val_accuracy: 0.8476\n",
      "Epoch 16/50\n",
      "20/20 [==============================] - 35s 2s/step - loss: 0.2947 - accuracy: 0.9438 - val_loss: 0.5209 - val_accuracy: 0.8714\n",
      "Epoch 17/50\n",
      "20/20 [==============================] - 35s 2s/step - loss: 0.2793 - accuracy: 0.9458 - val_loss: 0.5105 - val_accuracy: 0.8714\n",
      "Epoch 18/50\n",
      "20/20 [==============================] - 35s 2s/step - loss: 0.2648 - accuracy: 0.9515 - val_loss: 0.4949 - val_accuracy: 0.8810\n",
      "Epoch 19/50\n",
      "20/20 [==============================] - 35s 2s/step - loss: 0.2490 - accuracy: 0.9563 - val_loss: 0.4841 - val_accuracy: 0.8714\n",
      "Epoch 20/50\n",
      "20/20 [==============================] - 35s 2s/step - loss: 0.2350 - accuracy: 0.9586 - val_loss: 0.4807 - val_accuracy: 0.8786\n",
      "Epoch 21/50\n",
      "20/20 [==============================] - 35s 2s/step - loss: 0.2241 - accuracy: 0.9646 - val_loss: 0.4772 - val_accuracy: 0.8810\n",
      "Epoch 22/50\n",
      "20/20 [==============================] - 35s 2s/step - loss: 0.2126 - accuracy: 0.9655 - val_loss: 0.4624 - val_accuracy: 0.8905\n",
      "Epoch 23/50\n",
      "20/20 [==============================] - 35s 2s/step - loss: 0.2026 - accuracy: 0.9699 - val_loss: 0.4658 - val_accuracy: 0.8786\n",
      "Epoch 24/50\n",
      "20/20 [==============================] - 35s 2s/step - loss: 0.1936 - accuracy: 0.9729 - val_loss: 0.4573 - val_accuracy: 0.8857\n",
      "Epoch 25/50\n",
      "20/20 [==============================] - 35s 2s/step - loss: 0.1843 - accuracy: 0.9738 - val_loss: 0.4503 - val_accuracy: 0.8857\n",
      "Epoch 26/50\n",
      "20/20 [==============================] - 35s 2s/step - loss: 0.1762 - accuracy: 0.9750 - val_loss: 0.4510 - val_accuracy: 0.8810\n",
      "Epoch 27/50\n",
      "20/20 [==============================] - 35s 2s/step - loss: 0.1701 - accuracy: 0.9747 - val_loss: 0.4397 - val_accuracy: 0.8952\n",
      "Epoch 28/50\n",
      "20/20 [==============================] - 35s 2s/step - loss: 0.1616 - accuracy: 0.9777 - val_loss: 0.4440 - val_accuracy: 0.8905\n",
      "Epoch 29/50\n",
      "20/20 [==============================] - 36s 2s/step - loss: 0.1555 - accuracy: 0.9807 - val_loss: 0.4309 - val_accuracy: 0.8881\n",
      "Epoch 30/50\n",
      "20/20 [==============================] - 35s 2s/step - loss: 0.1488 - accuracy: 0.9827 - val_loss: 0.4264 - val_accuracy: 0.9000\n",
      "Epoch 31/50\n",
      "20/20 [==============================] - 35s 2s/step - loss: 0.1433 - accuracy: 0.9848 - val_loss: 0.4300 - val_accuracy: 0.8929\n",
      "Epoch 32/50\n",
      "20/20 [==============================] - 35s 2s/step - loss: 0.1374 - accuracy: 0.9839 - val_loss: 0.4207 - val_accuracy: 0.9000\n",
      "Epoch 33/50\n",
      "20/20 [==============================] - 35s 2s/step - loss: 0.1310 - accuracy: 0.9875 - val_loss: 0.4156 - val_accuracy: 0.8976\n",
      "Epoch 34/50\n",
      "20/20 [==============================] - 35s 2s/step - loss: 0.1265 - accuracy: 0.9878 - val_loss: 0.4257 - val_accuracy: 0.8952\n",
      "Epoch 35/50\n",
      "20/20 [==============================] - 35s 2s/step - loss: 0.1222 - accuracy: 0.9887 - val_loss: 0.4123 - val_accuracy: 0.9024\n",
      "Epoch 36/50\n",
      "20/20 [==============================] - 37s 2s/step - loss: 0.1183 - accuracy: 0.9899 - val_loss: 0.4100 - val_accuracy: 0.8952\n",
      "Epoch 37/50\n",
      "20/20 [==============================] - 38s 2s/step - loss: 0.1138 - accuracy: 0.9905 - val_loss: 0.4056 - val_accuracy: 0.9024\n",
      "Training time 1306.5563299655914\n"
     ]
    }
   ],
   "source": [
    "model.compile(\n",
    "    optimizer='adam',\n",
    "    loss=tf.keras.losses.SparseCategoricalCrossentropy(),\n",
    "    metrics=['accuracy']\n",
    ")\n",
    "\n",
    "stop_early = tf.keras.callbacks.EarlyStopping(monitor='val_loss', patience=10, restore_best_weights=True)\n",
    "\n",
    "class CustomCallback(tf.keras.callbacks.Callback):\n",
    "    def on_epoch_end(self, epoch, logs=None):\n",
    "        global P_CT\n",
    "        if logs.get('accuracy') >= P_CT:\n",
    "            self.model.stop_training = True\n",
    "\n",
    "import time\n",
    "\n",
    "t_start = time.time()\n",
    "\n",
    "history = model.fit(\n",
    "     train_dataset,\n",
    "     epochs=P_MAX_STEPS,\n",
    "     validation_data=validation_dataset,\n",
    "     callbacks = [CustomCallback()]\n",
    ")\n",
    "t_end = time.time()\n",
    "print('Training time', t_end - t_start)"
   ]
  },
  {
   "cell_type": "markdown",
   "metadata": {
    "id": "sMpWrwYhwBle"
   },
   "source": [
    "## Plot training evolution"
   ]
  },
  {
   "cell_type": "code",
   "execution_count": 13,
   "metadata": {
    "colab": {
     "base_uri": "https://localhost:8080/",
     "height": 499
    },
    "id": "8IP4HbI6wGnR",
    "outputId": "56203fed-a2d0-4331-8367-2eb35bf8a21a"
   },
   "outputs": [
    {
     "data": {
      "image/png": "[encoded data removed]",
      "text/plain": [
       "<Figure size 576x576 with 2 Axes>"
      ]
     },
     "metadata": {
      "needs_background": "light"
     },
     "output_type": "display_data"
    }
   ],
   "source": [
    "from  matplotlib import pyplot as plt\n",
    "acc = history.history['accuracy']\n",
    "val_acc = history.history['val_accuracy']\n",
    "\n",
    "loss = history.history['loss']\n",
    "val_loss = history.history['val_loss']\n",
    "\n",
    "epochs_range = range(len(acc))\n",
    "\n",
    "plt.figure(figsize=(8, 8))\n",
    "plt.subplot(1, 2, 1)\n",
    "plt.plot(epochs_range, acc, label='Training Accuracy')\n",
    "plt.plot(epochs_range, val_acc, label='Validation Accuracy')\n",
    "plt.legend(loc='lower right')\n",
    "plt.title('Training and Validation Accuracy')\n",
    "\n",
    "plt.subplot(1, 2, 2)\n",
    "plt.plot(epochs_range, loss, label='Training Loss')\n",
    "plt.plot(epochs_range, val_loss, label='Validation Loss')\n",
    "plt.legend(loc='upper right')\n",
    "plt.title('Training and Validation Loss')\n",
    "plt.show()\n"
   ]
  },
  {
   "cell_type": "markdown",
   "metadata": {
    "id": "2oxFM-9qwcg9"
   },
   "source": [
    "## Save model and convert it to TFLite format"
   ]
  },
  {
   "cell_type": "code",
   "execution_count": 14,
   "metadata": {
    "colab": {
     "base_uri": "https://localhost:8080/"
    },
    "id": "BbNXwKWMwimt",
    "outputId": "0d2f2868-d61c-48ed-bc4f-656eec1a233c"
   },
   "outputs": [
    {
     "name": "stdout",
     "output_type": "stream",
     "text": [
      "INFO:tensorflow:Assets written to: models/MobileNetV1/assets\n"
     ]
    },
    {
     "name": "stderr",
     "output_type": "stream",
     "text": [
      "INFO:tensorflow:Assets written to: models/MobileNetV1/assets\n",
      "2025-01-21 09:48:48.328920: W tensorflow/compiler/mlir/lite/python/tf_tfl_flatbuffer_helpers.cc:364] Ignored output_format.\n",
      "2025-01-21 09:48:48.328947: W tensorflow/compiler/mlir/lite/python/tf_tfl_flatbuffer_helpers.cc:367] Ignored drop_control_dependency.\n",
      "2025-01-21 09:48:48.329614: I tensorflow/cc/saved_model/reader.cc:45] Reading SavedModel from: models/MobileNetV1\n",
      "2025-01-21 09:48:48.335590: I tensorflow/cc/saved_model/reader.cc:91] Reading meta graph with tags { serve }\n",
      "2025-01-21 09:48:48.335626: I tensorflow/cc/saved_model/reader.cc:132] Reading SavedModel debug info (if present) from: models/MobileNetV1\n",
      "2025-01-21 09:48:48.351186: I tensorflow/compiler/mlir/mlir_graph_optimization_pass.cc:375] MLIR V1 optimization pass is not enabled\n",
      "2025-01-21 09:48:48.358014: I tensorflow/cc/saved_model/loader.cc:231] Restoring SavedModel bundle.\n",
      "2025-01-21 09:48:48.556496: I tensorflow/cc/saved_model/loader.cc:215] Running initialization op on SavedModel bundle at path: models/MobileNetV1\n",
      "2025-01-21 09:48:48.625574: I tensorflow/cc/saved_model/loader.cc:314] SavedModel load for tags { serve }; Status: success: OK. Took 295962 microseconds.\n",
      "2025-01-21 09:48:48.725206: I tensorflow/compiler/mlir/tensorflow/utils/dump_mlir_util.cc:255] disabling MLIR crash reproducer, set env var `MLIR_CRASH_REPRODUCER_DIRECTORY` to enable.\n"
     ]
    }
   ],
   "source": [
    "model.save('models/' + P_MODEL)\n",
    "converter = tf.lite.TFLiteConverter.from_saved_model('models/' + P_MODEL) # path to the SavedModel directory\n",
    "tflite_model = converter.convert()\n",
    "with open('models/' + P_MODEL + '.tflite', 'wb') as f:\n",
    "      f.write(tflite_model)"
   ]
  },
  {
   "cell_type": "code",
   "execution_count": 19,
   "metadata": {},
   "outputs": [
    {
     "data": {
      "text/plain": [
       "{'AH': 0,\n",
       " 'AT_CA': 1,\n",
       " 'AT_CH': 2,\n",
       " 'AT_I1': 3,\n",
       " 'AT_I2': 4,\n",
       " 'AT_M': 5,\n",
       " 'AT_O1': 6,\n",
       " 'AT_O2': 7,\n",
       " 'AT_S': 8,\n",
       " 'CN': 9,\n",
       " 'DC': 10,\n",
       " 'DF': 11,\n",
       " 'DG': 12,\n",
       " 'ES': 13,\n",
       " 'GL': 14,\n",
       " 'HA': 15,\n",
       " 'SA': 16,\n",
       " 'SN': 17,\n",
       " 'SS': 18,\n",
       " 'TMA': 19,\n",
       " 'TS': 20}"
      ]
     },
     "execution_count": 19,
     "metadata": {},
     "output_type": "execute_result"
    }
   ],
   "source": [
    "label_map = (train_dataset.class_indices)\n",
    "label_map"
   ]
  },
  {
   "cell_type": "markdown",
   "metadata": {
    "id": "ri3zPgMsybkd"
   },
   "source": [
    "## Calculate accuracy and loss for validation and test datasets"
   ]
  },
  {
   "cell_type": "code",
   "execution_count": 15,
   "metadata": {
    "colab": {
     "base_uri": "https://localhost:8080/"
    },
    "id": "gsE03gvPyYro",
    "outputId": "9572d671-9b71-45b8-a433-ab1d9741c7c3"
   },
   "outputs": [
    {
     "name": "stdout",
     "output_type": "stream",
     "text": [
      "3/3 [==============================] - 4s 1s/step - loss: 0.4056 - accuracy: 0.9024\n",
      "VALIDATION - loss 0.4056427478790283, accuracy 0.9023809432983398\n",
      "3/3 [==============================] - 4s 1s/step - loss: 0.3792 - accuracy: 0.9024\n",
      "TEST - loss 0.37920358777046204, accuracy 0.9023809432983398\n"
     ]
    }
   ],
   "source": [
    "loss, accuracy = model.evaluate(validation_dataset)\n",
    "\n",
    "print(\"VALIDATION - loss {}, accuracy {}\".format(loss,accuracy))\n",
    "\n",
    "loss, accuracy = model.evaluate(test_dataset)\n",
    "\n",
    "print(\"TEST - loss {}, accuracy {}\".format(loss,accuracy))"
   ]
  },
  {
   "cell_type": "code",
   "execution_count": null,
   "metadata": {},
   "outputs": [],
   "source": []
  }
 ],
 "metadata": {
  "accelerator": "GPU",
  "colab": {
   "collapsed_sections": [],
   "name": "mobilenet_model_train.ipynb",
   "provenance": []
  },
  "kernelspec": {
   "display_name": "Python 3 (ipykernel)",
   "language": "python",
   "name": "python3"
  },
  "language_info": {
   "codemirror_mode": {
    "name": "ipython",
    "version": 3
   },
   "file_extension": ".py",
   "mimetype": "text/x-python",
   "name": "python",
   "nbconvert_exporter": "python",
   "pygments_lexer": "ipython3",
   "version": "3.10.13"
  }
 },
 "nbformat": 4,
 "nbformat_minor": 1
}
